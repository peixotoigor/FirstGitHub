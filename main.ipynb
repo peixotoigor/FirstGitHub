{
 "cells": [
  {
   "cell_type": "code",
   "execution_count": 2,
   "metadata": {},
   "outputs": [
    {
     "name": "stdout",
     "output_type": "stream",
     "text": [
      "Área do retângulo: 7.5\n",
      "Perímetro do retângulo: 16\n"
     ]
    }
   ],
   "source": [
    "from area_retangulo import calcular_area\n",
    "from perimetro_retangulo import calcular_perimetro\n",
    "\n",
    "# Definindo as dimensões do retângulo\n",
    "base = 5\n",
    "altura = 3\n",
    "\n",
    "# Calculando a área e o perímetro\n",
    "area = calcular_area(base, altura)\n",
    "perimetro = calcular_perimetro(base, altura)\n",
    "\n",
    "# Exibindo os resultados\n",
    "print(\"Área do retângulo:\", area)\n",
    "print(\"Perímetro do retângulo:\", perimetro)\n"
   ]
  }
 ],
 "metadata": {
  "kernelspec": {
   "display_name": "myenv",
   "language": "python",
   "name": "python3"
  },
  "language_info": {
   "codemirror_mode": {
    "name": "ipython",
    "version": 3
   },
   "file_extension": ".py",
   "mimetype": "text/x-python",
   "name": "python",
   "nbconvert_exporter": "python",
   "pygments_lexer": "ipython3",
   "version": "3.10.8"
  }
 },
 "nbformat": 4,
 "nbformat_minor": 2
}
